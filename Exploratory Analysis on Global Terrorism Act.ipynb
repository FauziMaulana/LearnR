{
 "cells": [
  {
   "cell_type": "markdown",
   "metadata": {},
   "source": [
    "# Exploratory Analysis on Global Terrorism Act"
   ]
  },
  {
   "cell_type": "markdown",
   "metadata": {},
   "source": [
    "## Objective"
   ]
  },
  {
   "cell_type": "markdown",
   "metadata": {},
   "source": [
    "Exploring data and doing exploratory analysis using basic R"
   ]
  },
  {
   "cell_type": "markdown",
   "metadata": {},
   "source": [
    "## Data Set"
   ]
  },
  {
   "cell_type": "markdown",
   "metadata": {},
   "source": [
    "The data set containing information about global terrorism acts since 1970. The dataset used is named globalterrorismdb.csv[available here](http://www.start.umd.edu/gtd/), and contains over 100,000 terrorist incidents worldwide."
   ]
  },
  {
   "cell_type": "markdown",
   "metadata": {
    "collapsed": true
   },
   "source": [
    "# Reading In the Data"
   ]
  },
  {
   "cell_type": "code",
   "execution_count": 1,
   "metadata": {
    "collapsed": false
   },
   "outputs": [
    {
     "data": {
      "text/html": [
       "<ol class=list-inline>\n",
       "\t<li>104689</li>\n",
       "\t<li>123</li>\n",
       "</ol>\n"
      ],
      "text/latex": [
       "\\begin{enumerate*}\n",
       "\\item 104689\n",
       "\\item 123\n",
       "\\end{enumerate*}\n"
      ],
      "text/markdown": [
       "1. 104689\n",
       "2. 123\n",
       "\n",
       "\n"
      ],
      "text/plain": [
       "[1] 104689    123"
      ]
     },
     "metadata": {},
     "output_type": "display_data"
    }
   ],
   "source": [
    "data <- read.csv(\"C:/Users/i7/csv/globalterrorismdb.csv\", header = TRUE, na.strings = c(\"\", \".\"))\n",
    "dim(data)"
   ]
  },
  {
   "cell_type": "markdown",
   "metadata": {},
   "source": [
    "Keep the relevant columns that we are going to use"
   ]
  },
  {
   "cell_type": "code",
   "execution_count": 2,
   "metadata": {
    "collapsed": true
   },
   "outputs": [],
   "source": [
    "columnsKeep <- c(\"iyear\", \"imonth\", \"iday\", \"country_txt\", \"region_txt\", \"city\",\n",
    "                 \"attacktype1_txt\", \"nkill\", \"nwound\")\n",
    "data <- data[columnsKeep]"
   ]
  },
  {
   "cell_type": "markdown",
   "metadata": {},
   "source": [
    "## Renaming the Columns"
   ]
  },
  {
   "cell_type": "code",
   "execution_count": 3,
   "metadata": {
    "collapsed": false
   },
   "outputs": [],
   "source": [
    "library(plyr)\n",
    "data <- rename(data, c(\"iyear\" = \"year\", \"imonth\" = \"month\", \"iday\" = \"day\",\n",
    "                     \"country_txt\" = \"country\", \"region_txt\" = \"region\", \"attacktype1_txt\" = \"attacktype\"))"
   ]
  },
  {
   "cell_type": "markdown",
   "metadata": {},
   "source": [
    "## Renaming some factor levels"
   ]
  },
  {
   "cell_type": "code",
   "execution_count": 4,
   "metadata": {
    "collapsed": true
   },
   "outputs": [],
   "source": [
    "data <- within(data, attacktype <- revalue(attacktype,\n",
    "                                         c(\"Hostage Taking (Kidnapping)\" = \"Hostage (Kidnapping)\",\n",
    "                                           \"Facility/Infrastructure Attack\" = \"Facility Attack\",\n",
    "                                           \"Hostage Taking (Barricade Incident)\" = \"Hostage (Barricade)\"\n",
    "                                           )))\n",
    "data <- within(data, region <- revalue(region,\n",
    "                                     c(\"Australasia & Oceania\" = \"Oceania\",\n",
    "                                       \"Central America & Caribbean\" = \"Central America\",\n",
    "                                       \"Middle East & North Africa\" = \"Middle East\"\n",
    "                                       )))"
   ]
  },
  {
   "cell_type": "markdown",
   "metadata": {},
   "source": [
    "# Previewing The Dataframe With Head And Tail"
   ]
  },
  {
   "cell_type": "code",
   "execution_count": 5,
   "metadata": {
    "collapsed": false
   },
   "outputs": [
    {
     "name": "stdout",
     "output_type": "stream",
     "text": [
      "  year month day            country          region          city\n",
      "1 1970     0   0 Dominican Republic Central America Santo Domingo\n",
      "2 1970     0   0             Mexico   North America   Mexico city\n",
      "3 1970     1   0        Philippines  Southeast Asia        Tarlac\n",
      "4 1970     1   0             Greece  Western Europe        Athens\n",
      "5 1970     1   0              Japan       East Asia       Fukouka\n",
      "            attacktype nkill nwound\n",
      "1        Assassination     1      0\n",
      "2 Hostage (Kidnapping)     0      0\n",
      "3        Assassination     1      0\n",
      "4    Bombing/Explosion    NA     NA\n",
      "5      Facility Attack    NA     NA\n"
     ]
    }
   ],
   "source": [
    "print(head(data, 5))"
   ]
  },
  {
   "cell_type": "code",
   "execution_count": 6,
   "metadata": {
    "collapsed": false
   },
   "outputs": [
    {
     "name": "stdout",
     "output_type": "stream",
     "text": [
      "       year month day  country      region        city        attacktype nkill\n",
      "104685 2011    12  31 Pakistan  South Asia Landi Kotal Bombing/Explosion     2\n",
      "104686 2011    12  31     Iraq Middle East      Kirkuk Bombing/Explosion     0\n",
      "104687 2011    12  31 Pakistan  South Asia Landi Kotal Bombing/Explosion     2\n",
      "104688 2011    12  31 Pakistan  South Asia        Boya Bombing/Explosion     2\n",
      "104689 2011    12  31 Pakistan  South Asia Landi Kotal Bombing/Explosion     2\n",
      "       nwound\n",
      "104685     13\n",
      "104686      1\n",
      "104687      4\n",
      "104688     NA\n",
      "104689      4\n"
     ]
    }
   ],
   "source": [
    "print(tail(data, 5))"
   ]
  },
  {
   "cell_type": "markdown",
   "metadata": {},
   "source": [
    "## Replacing Missing Values"
   ]
  },
  {
   "cell_type": "markdown",
   "metadata": {},
   "source": [
    "replace NA values for number of killed/wounded with 0"
   ]
  },
  {
   "cell_type": "code",
   "execution_count": 7,
   "metadata": {
    "collapsed": true
   },
   "outputs": [],
   "source": [
    "data$nkill[is.na(data$nkill)] <- 0\n",
    "data$nwound[is.na(data$nwound)] <- 0"
   ]
  },
  {
   "cell_type": "markdown",
   "metadata": {},
   "source": [
    "## Exploratory Analysis"
   ]
  },
  {
   "cell_type": "code",
   "execution_count": 8,
   "metadata": {
    "collapsed": true
   },
   "outputs": [],
   "source": [
    "attacktypeDamage <- ddply(data, ~attacktype, function(x){\n",
    "  df <- data.frame(c(\"nkill\", \"nwound\"), c(sum(x$nkill), sum(x$nwound)));\n",
    "  colnames(df)<-c(\"stat\",\"value\");\n",
    "  return(df)\n",
    "})"
   ]
  },
  {
   "cell_type": "code",
   "execution_count": 9,
   "metadata": {
    "collapsed": false
   },
   "outputs": [
    {
     "data": {},
     "metadata": {},
     "output_type": "display_data"
    },
    {
     "data": {
      "text/html": [
       "<strong>null device:</strong> 1"
      ],
      "text/latex": [
       "\\textbf{null device:} 1"
      ],
      "text/markdown": [
       "**null device:** 1"
      ],
      "text/plain": [
       "null device \n",
       "          1 "
      ]
     },
     "metadata": {},
     "output_type": "display_data"
    },
    {
     "data": {
      "image/png": "[encoded data removed]",
      "text/plain": [
       "plot without title"
      ]
     },
     "metadata": {},
     "output_type": "display_data"
    }
   ],
   "source": [
    "library(ggplot2)\n",
    "\n",
    "ggplot(attacktypeDamage, aes(x = attacktype, y = value, fill = stat)) +\n",
    "  geom_bar(stat = \"identity\", position = position_dodge(width=0.9)) +\n",
    "  coord_flip() +\n",
    "  ggtitle(\"Number of People Wounded or Killed\\nby Terrorist Attacks Since 1970\") +\n",
    "  xlab(\"\") +\n",
    "  ylab(\"# of People\") +\n",
    "  scale_fill_manual(name = \"Injury Type\", values = c(\"black\", \"red\"), labels = c('Killed', 'Wounded')) +\n",
    "  guides(fill = guide_legend(reverse = TRUE)) +\n",
    "  theme(panel.grid.major.y = element_blank(),\n",
    "        plot.title = element_text(face=\"bold\"))\n",
    "\n",
    "dev.off()"
   ]
  },
  {
   "cell_type": "markdown",
   "metadata": {},
   "source": [
    "#### Findings :\n",
    "\n",
    "It is immediately visible that bombings and armed assaults are the attacks that have killed and injured\n",
    "the most people.  With bombings, there are far more people getting injured than dying, while with armed\n",
    "assault the fatalities are the highest."
   ]
  }
 ],
 "metadata": {
  "kernelspec": {
   "display_name": "R",
   "language": "R",
   "name": "ir"
  },
  "language_info": {
   "codemirror_mode": "r",
   "file_extension": ".r",
   "mimetype": "text/x-r-source",
   "name": "R",
   "pygments_lexer": "r",
   "version": "3.3.2"
  }
 },
 "nbformat": 4,
 "nbformat_minor": 2
}
