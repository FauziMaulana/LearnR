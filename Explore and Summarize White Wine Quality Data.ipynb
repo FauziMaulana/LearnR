{
 "cells": [
  {
   "cell_type": "markdown",
   "metadata": {},
   "source": [
    "# Explore and Summarize White Wine Quality Data"
   ]
  },
  {
   "cell_type": "markdown",
   "metadata": {},
   "source": [
    "## Objective"
   ]
  },
  {
   "cell_type": "markdown",
   "metadata": {},
   "source": [
    "Exploratory analysis in R in order to examine the relationship between 11 chemical and physical properties of a sample of white wines."
   ]
  },
  {
   "cell_type": "markdown",
   "metadata": {},
   "source": [
    "## Data Set"
   ]
  },
  {
   "cell_type": "markdown",
   "metadata": {},
   "source": [
    "The data set named WineQualityWhites.csv' contains information on 11 chemical and physical properties for 4,898 white wines. Also included is a quality ranking and an explicit ID.\n",
    "\n",
    "The data set was obtained from [here](https://s3.amazonaws.com/udacity-hosted-downloads/ud651/wineQualityWhites.csv)\n",
    "\n",
    "Here are the description of the columns of the data set :\n",
    "\n",
    "| Column               | Description                                                                                                                          |\n",
    "|----------------------|--------------------------------------------------------------------------------------------------------------------------------------|\n",
    "| fixed acidity        | most acids involved with wine are fixed   or nonvolatile (do not evaporate readily) (tartaric acid - g / dm^3)                       |\n",
    "| volatile acidity     | the amount of acetic acid in wine, which   at too high of levels can lead to an unpleasant, vinegar taste (acetic acid -   g / dm^3) |\n",
    "| citric acid          | found in small quantities, citric acid   can add 'freshness' and flavor to wines (g / dm^3)                                          |\n",
    "| residual sugar       | the amount of sugar remaining after   fermentation stops (g / dm^3)                                                                  |\n",
    "| chlorides            | the amount of salt in the wine (sodium   chloride - g / dm^3                                                                         |\n",
    "| free sulfur dioxide  | free form of SO2 exists in equilibrium   between molecular SO2 (as a dissolved gas) and bisulfite ion (mg / dm^3)                    |\n",
    "| total sulfur dioxide | amount of free and bound forms of S02 (mg   / dm^3)                                                                                  |\n",
    "| density              | the density of wine is close to that of   water depending on the percent alcohol and sugar content (g / cm^3)                        |\n",
    "| pH                   | describes how acidic or basic a wine is   on a scale from 0 (very acidic) to 14 (very basic)                                         |\n",
    "| sulphates            | a wine additive which can contribute to   sulfur dioxide gas (S02) levels (potassium sulphate - g / dm3)                             |\n",
    "| alcohol              | the percent alcohol content of the wine   (% by volume)                                                                              |"
   ]
  },
  {
   "cell_type": "markdown",
   "metadata": {
    "collapsed": true
   },
   "source": [
    "## Reading and Exploring The Data"
   ]
  },
  {
   "cell_type": "code",
   "execution_count": 1,
   "metadata": {
    "collapsed": false
   },
   "outputs": [
    {
     "data": {
      "text/html": [
       "<ol class=list-inline>\n",
       "\t<li>4898</li>\n",
       "\t<li>13</li>\n",
       "</ol>\n"
      ],
      "text/latex": [
       "\\begin{enumerate*}\n",
       "\\item 4898\n",
       "\\item 13\n",
       "\\end{enumerate*}\n"
      ],
      "text/markdown": [
       "1. 4898\n",
       "2. 13\n",
       "\n",
       "\n"
      ],
      "text/plain": [
       "[1] 4898   13"
      ]
     },
     "metadata": {},
     "output_type": "display_data"
    }
   ],
   "source": [
    "wine <- read.csv(\"C:/Users/i7/csv/wineQualityWhites.csv\", header = TRUE, na.strings = c(\"NA\", \"\"))\n",
    "dim(wine)"
   ]
  },
  {
   "cell_type": "code",
   "execution_count": 2,
   "metadata": {
    "collapsed": false
   },
   "outputs": [
    {
     "name": "stdout",
     "output_type": "stream",
     "text": [
      "'data.frame':\t4898 obs. of  13 variables:\n",
      " $ X                   : int  1 2 3 4 5 6 7 8 9 10 ...\n",
      " $ fixed.acidity       : num  7 6.3 8.1 7.2 7.2 8.1 6.2 7 6.3 8.1 ...\n",
      " $ volatile.acidity    : num  0.27 0.3 0.28 0.23 0.23 0.28 0.32 0.27 0.3 0.22 ...\n",
      " $ citric.acid         : num  0.36 0.34 0.4 0.32 0.32 0.4 0.16 0.36 0.34 0.43 ...\n",
      " $ residual.sugar      : num  20.7 1.6 6.9 8.5 8.5 6.9 7 20.7 1.6 1.5 ...\n",
      " $ chlorides           : num  0.045 0.049 0.05 0.058 0.058 0.05 0.045 0.045 0.049 0.044 ...\n",
      " $ free.sulfur.dioxide : num  45 14 30 47 47 30 30 45 14 28 ...\n",
      " $ total.sulfur.dioxide: num  170 132 97 186 186 97 136 170 132 129 ...\n",
      " $ density             : num  1.001 0.994 0.995 0.996 0.996 ...\n",
      " $ pH                  : num  3 3.3 3.26 3.19 3.19 3.26 3.18 3 3.3 3.22 ...\n",
      " $ sulphates           : num  0.45 0.49 0.44 0.4 0.4 0.44 0.47 0.45 0.49 0.45 ...\n",
      " $ alcohol             : num  8.8 9.5 10.1 9.9 9.9 10.1 9.6 8.8 9.5 11 ...\n",
      " $ quality             : int  6 6 6 6 6 6 6 6 6 6 ...\n"
     ]
    }
   ],
   "source": [
    "str(wine)"
   ]
  },
  {
   "cell_type": "code",
   "execution_count": 3,
   "metadata": {
    "collapsed": false
   },
   "outputs": [
    {
     "data": {
      "text/plain": [
       "       X        fixed.acidity    volatile.acidity  citric.acid    \n",
       " Min.   :   1   Min.   : 3.800   Min.   :0.0800   Min.   :0.0000  \n",
       " 1st Qu.:1225   1st Qu.: 6.300   1st Qu.:0.2100   1st Qu.:0.2700  \n",
       " Median :2450   Median : 6.800   Median :0.2600   Median :0.3200  \n",
       " Mean   :2450   Mean   : 6.855   Mean   :0.2782   Mean   :0.3342  \n",
       " 3rd Qu.:3674   3rd Qu.: 7.300   3rd Qu.:0.3200   3rd Qu.:0.3900  \n",
       " Max.   :4898   Max.   :14.200   Max.   :1.1000   Max.   :1.6600  \n",
       " residual.sugar     chlorides       free.sulfur.dioxide total.sulfur.dioxide\n",
       " Min.   : 0.600   Min.   :0.00900   Min.   :  2.00      Min.   :  9.0       \n",
       " 1st Qu.: 1.700   1st Qu.:0.03600   1st Qu.: 23.00      1st Qu.:108.0       \n",
       " Median : 5.200   Median :0.04300   Median : 34.00      Median :134.0       \n",
       " Mean   : 6.391   Mean   :0.04577   Mean   : 35.31      Mean   :138.4       \n",
       " 3rd Qu.: 9.900   3rd Qu.:0.05000   3rd Qu.: 46.00      3rd Qu.:167.0       \n",
       " Max.   :65.800   Max.   :0.34600   Max.   :289.00      Max.   :440.0       \n",
       "    density             pH          sulphates         alcohol     \n",
       " Min.   :0.9871   Min.   :2.720   Min.   :0.2200   Min.   : 8.00  \n",
       " 1st Qu.:0.9917   1st Qu.:3.090   1st Qu.:0.4100   1st Qu.: 9.50  \n",
       " Median :0.9937   Median :3.180   Median :0.4700   Median :10.40  \n",
       " Mean   :0.9940   Mean   :3.188   Mean   :0.4898   Mean   :10.51  \n",
       " 3rd Qu.:0.9961   3rd Qu.:3.280   3rd Qu.:0.5500   3rd Qu.:11.40  \n",
       " Max.   :1.0390   Max.   :3.820   Max.   :1.0800   Max.   :14.20  \n",
       "    quality     \n",
       " Min.   :3.000  \n",
       " 1st Qu.:5.000  \n",
       " Median :6.000  \n",
       " Mean   :5.878  \n",
       " 3rd Qu.:6.000  \n",
       " Max.   :9.000  "
      ]
     },
     "metadata": {},
     "output_type": "display_data"
    }
   ],
   "source": [
    "summary(wine)"
   ]
  },
  {
   "cell_type": "code",
   "execution_count": 4,
   "metadata": {
    "collapsed": false
   },
   "outputs": [
    {
     "name": "stdout",
     "output_type": "stream",
     "text": [
      "  X fixed.acidity volatile.acidity citric.acid residual.sugar chlorides\n",
      "1 1           7.0             0.27        0.36           20.7     0.045\n",
      "2 2           6.3             0.30        0.34            1.6     0.049\n",
      "3 3           8.1             0.28        0.40            6.9     0.050\n",
      "4 4           7.2             0.23        0.32            8.5     0.058\n",
      "5 5           7.2             0.23        0.32            8.5     0.058\n",
      "  free.sulfur.dioxide total.sulfur.dioxide density   pH sulphates alcohol\n",
      "1                  45                  170  1.0010 3.00      0.45     8.8\n",
      "2                  14                  132  0.9940 3.30      0.49     9.5\n",
      "3                  30                   97  0.9951 3.26      0.44    10.1\n",
      "4                  47                  186  0.9956 3.19      0.40     9.9\n",
      "5                  47                  186  0.9956 3.19      0.40     9.9\n",
      "  quality\n",
      "1       6\n",
      "2       6\n",
      "3       6\n",
      "4       6\n",
      "5       6\n"
     ]
    }
   ],
   "source": [
    "print(head(wine, 5))"
   ]
  },
  {
   "cell_type": "markdown",
   "metadata": {},
   "source": [
    "## Pre-Process The Data"
   ]
  },
  {
   "cell_type": "code",
   "execution_count": 5,
   "metadata": {
    "collapsed": false
   },
   "outputs": [],
   "source": [
    "#create new sulf.ratio series and assign ratio of free to total sulfur dioxide\n",
    "wine$sulf.ratio <- wine$free.sulfur.dioxide / wine$total.sulfur.dioxide"
   ]
  },
  {
   "cell_type": "code",
   "execution_count": 6,
   "metadata": {
    "collapsed": false
   },
   "outputs": [
    {
     "data": {
      "text/plain": [
       "   Min. 1st Qu.  Median    Mean 3rd Qu.    Max. \n",
       "0.02362 0.19090 0.25370 0.25560 0.31580 0.71050 "
      ]
     },
     "metadata": {},
     "output_type": "display_data"
    }
   ],
   "source": [
    "summary(wine$sulf.ratio)"
   ]
  },
  {
   "cell_type": "markdown",
   "metadata": {},
   "source": [
    "Additionally, two new category series were created:\n",
    "\n",
    "    'quality.rating': Categorizes wine quality score into three new categories: 1:Poor (5 score or less), 2:Good (6 score), 3:Great (7 score or greater).\n",
    "    'alcohol.rating': Categorizes wine alcohol content into three new categories: 1:Light (9% or less), 2:Mild (between 10% and 12%), 3:Strong (12% or greater)."
   ]
  },
  {
   "cell_type": "code",
   "execution_count": 7,
   "metadata": {
    "collapsed": false
   },
   "outputs": [],
   "source": [
    "#create new wine.rating series and assign category number according to score\n",
    "wine$quality.rating[wine$quality <= 5] = 1\n",
    "wine$quality.rating[wine$quality > 5 & wine$quality < 7] = 2\n",
    "wine$quality.rating[wine$quality >= 7] = 3\n",
    "\n",
    "#create new alcohol.rating series and assign category number according to alcohol content\n",
    "wine$alcohol.rating[wine$alcohol <= 10] = 1\n",
    "wine$alcohol.rating[wine$alcohol > 10 & wine$alcohol < 12] = 2\n",
    "wine$alcohol.rating[wine$alcohol >= 12] = 3"
   ]
  },
  {
   "cell_type": "code",
   "execution_count": 8,
   "metadata": {
    "collapsed": false
   },
   "outputs": [
    {
     "data": {
      "text/plain": [
       "   Min. 1st Qu.  Median    Mean 3rd Qu.    Max. \n",
       "  1.000   1.000   2.000   1.882   2.000   3.000 "
      ]
     },
     "metadata": {},
     "output_type": "display_data"
    }
   ],
   "source": [
    "summary(wine$quality.rating)"
   ]
  },
  {
   "cell_type": "code",
   "execution_count": 9,
   "metadata": {
    "collapsed": false
   },
   "outputs": [
    {
     "data": {
      "text/plain": [
       "   Min. 1st Qu.  Median    Mean 3rd Qu.    Max. \n",
       "   1.00    1.00    2.00    1.74    2.00    3.00 "
      ]
     },
     "metadata": {},
     "output_type": "display_data"
    }
   ],
   "source": [
    "summary(wine$alcohol.rating)"
   ]
  },
  {
   "cell_type": "markdown",
   "metadata": {},
   "source": [
    "## Univariate Analysis"
   ]
  },
  {
   "cell_type": "markdown",
   "metadata": {},
   "source": [
    "Histograms were generated for each of the original dataset variables."
   ]
  },
  {
   "cell_type": "code",
   "execution_count": 10,
   "metadata": {
    "collapsed": false
   },
   "outputs": [
    {
     "name": "stderr",
     "output_type": "stream",
     "text": [
      "`stat_bin()` using `bins = 30`. Pick better value with `binwidth`.\n",
      "`stat_bin()` using `bins = 30`. Pick better value with `binwidth`.\n",
      "`stat_bin()` using `bins = 30`. Pick better value with `binwidth`.\n",
      "`stat_bin()` using `bins = 30`. Pick better value with `binwidth`.\n",
      "`stat_bin()` using `bins = 30`. Pick better value with `binwidth`.\n",
      "`stat_bin()` using `bins = 30`. Pick better value with `binwidth`.\n",
      "`stat_bin()` using `bins = 30`. Pick better value with `binwidth`.\n",
      "`stat_bin()` using `bins = 30`. Pick better value with `binwidth`.\n",
      "`stat_bin()` using `bins = 30`. Pick better value with `binwidth`.\n",
      "`stat_bin()` using `bins = 30`. Pick better value with `binwidth`.\n",
      "`stat_bin()` using `bins = 30`. Pick better value with `binwidth`.\n",
      "`stat_bin()` using `bins = 30`. Pick better value with `binwidth`.\n"
     ]
    },
    {
     "data": {
      "image/png": "[encoded data removed]",
      "text/plain": [
       "plot without title"
      ]
     },
     "metadata": {},
     "output_type": "display_data"
    }
   ],
   "source": [
    "library(ggplot2)\n",
    "library(gridExtra)\n",
    "\n",
    "datacolnames <- colnames(wine)\n",
    "\n",
    "for (i in 2:length(datacolnames)) { #loop through each dataset variable and create histrogram plot\n",
    "  \n",
    "  plot <- ggplot(data = wine,\n",
    "    aes_string(x = datacolnames[i])) +\n",
    "    geom_histogram() + \n",
    "    ggtitle(datacolnames[i])\n",
    "  \n",
    "  assign(paste(\"plot\", i, sep = \"\"), plot) #assign plot with an incremented plot[i] name\n",
    "\n",
    "}\n",
    "\n",
    "grid.arrange(plot2, plot3, plot4, plot5, plot6, plot7, #arrange plots in single grid\n",
    "             plot8, plot9, plot10, plot11, plot12, plot13, \n",
    "             ncol = 3, \n",
    "             top = \"Figure 1: Dataset Histogram Collection\")"
   ]
  },
  {
   "cell_type": "markdown",
   "metadata": {},
   "source": [
    "#### Observations :\n",
    "\n",
    "The majority of variables are approximately normally distributed and many have a positive skew. Judging by the automatically adjusted scale on each distribution, it seems there are also a small number of outliers within some variables."
   ]
  },
  {
   "cell_type": "markdown",
   "metadata": {},
   "source": [
    "#### Histogram and summary metrics for total sulfur dioxide."
   ]
  },
  {
   "cell_type": "code",
   "execution_count": 11,
   "metadata": {
    "collapsed": false
   },
   "outputs": [
    {
     "data": {},
     "metadata": {},
     "output_type": "display_data"
    },
    {
     "data": {
      "text/plain": [
       "   Min. 1st Qu.  Median    Mean 3rd Qu.    Max. \n",
       "    9.0   108.0   134.0   138.4   167.0   440.0 "
      ]
     },
     "metadata": {},
     "output_type": "display_data"
    },
    {
     "data": {
      "image/png": "[encoded data removed]",
      "text/plain": [
       "plot without title"
      ]
     },
     "metadata": {},
     "output_type": "display_data"
    }
   ],
   "source": [
    "library(ggplot2)\n",
    "\n",
    "ggplot(data = wine,\n",
    "  aes(x = total.sulfur.dioxide)) +\n",
    "  geom_histogram(binwidth = 5) +\n",
    "  ggtitle(\"Figure 2: Total Sulfur Dioxide Histogram\")\n",
    "\n",
    "summary(wine$total.sulfur.dioxide)"
   ]
  },
  {
   "cell_type": "markdown",
   "metadata": {},
   "source": [
    "The min free sulfur dioxide value is 9.0 mg/dm^3, the max is 440.0 mg/dm^3. it seems the 440 mg/dm^3 is an outlier."
   ]
  },
  {
   "cell_type": "markdown",
   "metadata": {},
   "source": [
    "#### Histogram and summary metrics excluding observations where free sulfur dioxide is greater than 300 mg/dm^3. "
   ]
  },
  {
   "cell_type": "code",
   "execution_count": 12,
   "metadata": {
    "collapsed": false
   },
   "outputs": [
    {
     "data": {},
     "metadata": {},
     "output_type": "display_data"
    },
    {
     "ename": "ERROR",
     "evalue": "Error in summary(winesub$total.sulfur.dioxide): object 'winesub' not found\n",
     "output_type": "error",
     "traceback": [
      "Error in summary(winesub$total.sulfur.dioxide): object 'winesub' not found\nTraceback:\n",
      "1. summary(winesub$total.sulfur.dioxide)"
     ]
    },
    {
     "data": {
      "image/png": "[encoded data removed]",
      "text/plain": [
       "plot without title"
      ]
     },
     "metadata": {},
     "output_type": "display_data"
    }
   ],
   "source": [
    "ggplot(data = wine,\n",
    "  aes(x = total.sulfur.dioxide)) +\n",
    "  geom_histogram(binwidth = 5) +\n",
    "  coord_cartesian(xlim = c(0, 300)) +\n",
    "  ggtitle(\"Figure 3: Total Sulfur Dioxide (Adjusted) Histogram\")\n",
    "\n",
    "data_winesub <- subset(wine, wine$total.sulfur.dioxide < 300) #subset data by total sulfur dioxide limit prior to summary\n",
    "summary(winesub$total.sulfur.dioxide)"
   ]
  },
  {
   "cell_type": "markdown",
   "metadata": {},
   "source": [
    "Each wine has both a free sulfur dioxide count and total sulfur dioxide count. The below shows a histogram and summary metrics for the ratio of the two."
   ]
  },
  {
   "cell_type": "code",
   "execution_count": 13,
   "metadata": {
    "collapsed": false
   },
   "outputs": [
    {
     "name": "stderr",
     "output_type": "stream",
     "text": [
      "`stat_bin()` using `bins = 30`. Pick better value with `binwidth`.\n"
     ]
    },
    {
     "data": {},
     "metadata": {},
     "output_type": "display_data"
    },
    {
     "data": {
      "text/plain": [
       "   Min. 1st Qu.  Median    Mean 3rd Qu.    Max. \n",
       "0.02362 0.19090 0.25370 0.25560 0.31580 0.71050 "
      ]
     },
     "metadata": {},
     "output_type": "display_data"
    },
    {
     "data": {
      "image/png": "[encoded data removed]",
      "text/plain": [
       "plot without title"
      ]
     },
     "metadata": {},
     "output_type": "display_data"
    }
   ],
   "source": [
    "ggplot(data = wine, aes(x = sulf.ratio)) +\n",
    "  geom_histogram() +\n",
    "  ggtitle(\"Figure 4: Free/Total Sulfur Dioxide Histogram\")\n",
    "\n",
    "summary(wine$sulf.ratio)"
   ]
  },
  {
   "cell_type": "markdown",
   "metadata": {},
   "source": [
    "#### The below shows a histogram and summary metrics for wine pH. "
   ]
  },
  {
   "cell_type": "code",
   "execution_count": 14,
   "metadata": {
    "collapsed": false
   },
   "outputs": [
    {
     "data": {},
     "metadata": {},
     "output_type": "display_data"
    },
    {
     "data": {
      "text/plain": [
       "   Min. 1st Qu.  Median    Mean 3rd Qu.    Max. \n",
       "  2.720   3.090   3.180   3.188   3.280   3.820 "
      ]
     },
     "metadata": {},
     "output_type": "display_data"
    },
    {
     "data": {
      "image/png": "[encoded data removed]",
      "text/plain": [
       "plot without title"
      ]
     },
     "metadata": {},
     "output_type": "display_data"
    }
   ],
   "source": [
    "ggplot(data = wine, aes(x = pH)) +\n",
    "  geom_histogram(binwidth = 0.05) +\n",
    "  ggtitle(\"Figure 5: pH Histogram\")\n",
    "\n",
    "summary(wine$pH)"
   ]
  },
  {
   "cell_type": "markdown",
   "metadata": {},
   "source": [
    "Based on recorded pH levels, it seems the tested wines are acidic (pH < 7) falling within the range of 2.7 pH to 3.8 pH."
   ]
  }
 ],
 "metadata": {
  "kernelspec": {
   "display_name": "R",
   "language": "R",
   "name": "ir"
  },
  "language_info": {
   "codemirror_mode": "r",
   "file_extension": ".r",
   "mimetype": "text/x-r-source",
   "name": "R",
   "pygments_lexer": "r",
   "version": "3.3.2"
  }
 },
 "nbformat": 4,
 "nbformat_minor": 2
}
